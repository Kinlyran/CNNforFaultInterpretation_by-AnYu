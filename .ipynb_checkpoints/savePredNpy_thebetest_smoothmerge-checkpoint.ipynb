{
 "cells": [
  {
   "cell_type": "code",
   "execution_count": 1,
   "metadata": {},
   "outputs": [],
   "source": [
    "from functions import *\n",
    "import cmapy\n",
    "\n",
    "os.environ[\"CUDA_VISIBLE_DEVICES\"] = \"0\"  # Only GPU 1 is visible to this code"
   ]
  },
  {
   "cell_type": "code",
   "execution_count": 2,
   "metadata": {},
   "outputs": [],
   "source": [
    "seis_path = '/data/anyu/seistest.npy'"
   ]
  },
  {
   "cell_type": "code",
   "execution_count": 3,
   "metadata": {},
   "outputs": [],
   "source": [
    "seis = np.load(seis_path)"
   ]
  },
  {
   "cell_type": "code",
   "execution_count": 4,
   "metadata": {},
   "outputs": [
    {
     "name": "stdout",
     "output_type": "stream",
     "text": [
      "703 1537 3174\n"
     ]
    }
   ],
   "source": [
    "IL, Z, XL = seis.shape\n",
    "print(IL, Z, XL)"
   ]
  },
  {
   "cell_type": "markdown",
   "metadata": {},
   "source": [
    "Make input is IL, Z, XL order."
   ]
  },
  {
   "cell_type": "code",
   "execution_count": 5,
   "metadata": {},
   "outputs": [
    {
     "name": "stdout",
     "output_type": "stream",
     "text": [
      "(703, 1537, 3174)\n"
     ]
    }
   ],
   "source": [
    "print(seis.shape)"
   ]
  },
  {
   "cell_type": "code",
   "execution_count": 6,
   "metadata": {},
   "outputs": [],
   "source": [
    "im_height = Z\n",
    "im_width = XL\n",
    "splitsize = 96\n",
    "stepsize = 48 #overlap half\n",
    "overlapsize = splitsize-stepsize"
   ]
  },
  {
   "cell_type": "code",
   "execution_count": 7,
   "metadata": {},
   "outputs": [
    {
     "name": "stdout",
     "output_type": "stream",
     "text": [
      "67\n",
      "3312\n",
      "69 69\n",
      "33\n",
      "1680\n",
      "71 72\n"
     ]
    }
   ],
   "source": [
    "horizontal_splits_number = int(np.ceil((im_width)/stepsize))\n",
    "print(horizontal_splits_number)\n",
    "width_after_pad = stepsize*horizontal_splits_number+2*overlapsize\n",
    "print(width_after_pad)\n",
    "left_pad = int((width_after_pad-im_width)/2)\n",
    "right_pad = width_after_pad-im_width-left_pad\n",
    "print(left_pad,right_pad)\n",
    "\n",
    "vertical_splits_number = int(np.ceil((im_height)/stepsize))\n",
    "print(vertical_splits_number)\n",
    "height_after_pad = stepsize*vertical_splits_number+2*overlapsize\n",
    "print(height_after_pad)\n",
    "top_pad = int((height_after_pad-im_height)/2)\n",
    "bottom_pad = height_after_pad-im_height-top_pad\n",
    "print(top_pad,bottom_pad)"
   ]
  },
  {
   "cell_type": "code",
   "execution_count": 8,
   "metadata": {},
   "outputs": [
    {
     "name": "stdout",
     "output_type": "stream",
     "text": [
      "68\n",
      "34\n"
     ]
    }
   ],
   "source": [
    "horizontal_splits_number = horizontal_splits_number+1\n",
    "print(horizontal_splits_number)\n",
    "vertical_splits_number = vertical_splits_number+1\n",
    "print(vertical_splits_number)"
   ]
  },
  {
   "cell_type": "code",
   "execution_count": 9,
   "metadata": {},
   "outputs": [
    {
     "name": "stdout",
     "output_type": "stream",
     "text": [
      "24\n"
     ]
    }
   ],
   "source": [
    "halfoverlapsize = int(overlapsize/2)\n",
    "print(halfoverlapsize)"
   ]
  },
  {
   "cell_type": "code",
   "execution_count": 10,
   "metadata": {},
   "outputs": [
    {
     "name": "stdout",
     "output_type": "stream",
     "text": [
      "703\n"
     ]
    }
   ],
   "source": [
    "print(len(seis))"
   ]
  },
  {
   "cell_type": "code",
   "execution_count": 11,
   "metadata": {},
   "outputs": [],
   "source": [
    "# seis_norm = seis\n",
    "# seis_norm = (seis-seis.min(axis=(1,2), keepdims=True))/(seis.max(axis=(1,2), keepdims=True)-seis.min(axis=(1,2), keepdims=True))\n",
    "# print(seis_norm.shape)"
   ]
  },
  {
   "cell_type": "code",
   "execution_count": 12,
   "metadata": {},
   "outputs": [],
   "source": [
    "# count = 0\n",
    "# for l in range(0,len(seis),5):\n",
    "#     count+=1\n",
    "#     print(l)\n",
    "# print(count)"
   ]
  },
  {
   "cell_type": "code",
   "execution_count": 13,
   "metadata": {},
   "outputs": [
    {
     "name": "stdout",
     "output_type": "stream",
     "text": [
      "325992\n",
      "(96, 96)\n",
      "read images in 22.171111345291138 sec\n",
      "(325992, 96, 96)\n",
      "read images in 42.15856599807739 sec\n"
     ]
    }
   ],
   "source": [
    "t_start = time.time()\n",
    "X_list = []\n",
    "for i in range(0,len(seis),5):\n",
    "    img = seis[i]\n",
    "    X_list.extend(split_Image(img,True,top_pad,bottom_pad,left_pad,right_pad,splitsize,stepsize,vertical_splits_number,horizontal_splits_number))\n",
    "    \n",
    "print(len(X_list))\n",
    "print(X_list[0].shape)\n",
    "print(\"read images in {} sec\".format(time.time()-t_start))\n",
    "X = np.asarray(X_list)\n",
    "print(X.shape)\n",
    "print(\"read images in {} sec\".format(time.time()-t_start))\n",
    "\n",
    "# X_norm = X\n",
    "\n",
    "# if len(X_norm.shape) == 3:\n",
    "#     X_norm = np.expand_dims(X_norm, axis=1)\n",
    "# print(X_norm.shape) #float32"
   ]
  },
  {
   "cell_type": "code",
   "execution_count": 14,
   "metadata": {},
   "outputs": [
    {
     "name": "stdout",
     "output_type": "stream",
     "text": [
      "(325992, 1, 96, 96)\n"
     ]
    }
   ],
   "source": [
    "X = X.astype(np.float32)\n",
    "X = np.expand_dims(X,1)\n",
    "print(X.shape)"
   ]
  },
  {
   "cell_type": "code",
   "execution_count": 15,
   "metadata": {},
   "outputs": [],
   "source": [
    "# plt.imshow(np.squeeze(X[0]))\n",
    "# plt.show()"
   ]
  },
  {
   "cell_type": "code",
   "execution_count": 16,
   "metadata": {},
   "outputs": [],
   "source": [
    "# # images = Variable(images.cuda())\n",
    "# inputs = Variable(torch.from_numpy(X[900:904]).cuda())\n",
    "# device = torch.device('cuda')\n",
    "# # model = TheModelClass(*args, **kwargs)\n",
    "# model = HED()\n",
    "# print(\"use model HED\")\n",
    "# best_model_fpath = 'hed_96_48_checkpoint.pt' #hed_96_48_checkpoint.pt\n",
    "# save_path = 'thebepred_hed_blend'\n",
    "# model.load_state_dict(torch.load(best_model_fpath, map_location=device))\n",
    "# model.to(device)\n",
    "# outputs = model(inputs)\n",
    "# predicts = outputs[-2]\n",
    "# print(predicts[0].shape)\n",
    "# plt.imshow(np.squeeze(predicts[0].detach().cpu().numpy()))\n",
    "# plt.show()"
   ]
  },
  {
   "cell_type": "code",
   "execution_count": 17,
   "metadata": {},
   "outputs": [],
   "source": [
    "# # idea from: https://www.kaggle.com/erikistre/pytorch-basic-u-net\n",
    "# class faultsDataset(torch.utils.data.Dataset):\n",
    "\n",
    "#     def __init__(self,preprocessed_images,train=True, preprocessed_masks=None):\n",
    "#         \"\"\"\n",
    "#         Args:\n",
    "#             text_file(string): path to text file\n",
    "#             root_dir(string): directory with all train images\n",
    "#         \"\"\"\n",
    "#         self.train = train\n",
    "#         self.images = preprocessed_images\n",
    "#         if self.train:\n",
    "#             self.masks = preprocessed_masks\n",
    "# #         self.masks = preprocessed_masks\n",
    "\n",
    "#     def __len__(self):\n",
    "#         return len(self.images)\n",
    "\n",
    "#     def __getitem__(self, idx):\n",
    "#         image = self.images[idx]\n",
    "#         mask = None\n",
    "#         if self.train:\n",
    "#             mask = self.masks[idx]\n",
    "#         return (image, mask)\n",
    "# idea from: https://www.kaggle.com/erikistre/pytorch-basic-u-net\n",
    "class faultsDataset(torch.utils.data.Dataset):\n",
    "\n",
    "    def __init__(self,preprocessed_images):\n",
    "        \"\"\"\n",
    "        Args:\n",
    "            text_file(string): path to text file\n",
    "            root_dir(string): directory with all train images\n",
    "        \"\"\"\n",
    "#         self.train = train\n",
    "        self.images = preprocessed_images\n",
    "#         if self.train:\n",
    "#             self.masks = preprocessed_masks\n",
    "# #         self.masks = preprocessed_masks\n",
    "\n",
    "    def __len__(self):\n",
    "        return len(self.images)\n",
    "\n",
    "    def __getitem__(self, idx):\n",
    "        image = self.images[idx]\n",
    "        return image\n",
    "#         mask = None\n",
    "#         if self.train:\n",
    "#             mask = self.masks[idx]\n",
    "#         return (image, mask)"
   ]
  },
  {
   "cell_type": "code",
   "execution_count": 18,
   "metadata": {},
   "outputs": [],
   "source": [
    "# faults_dataset_test = faultsDataset(X_norm, train=False, preprocessed_masks=None)\n",
    "\n",
    "# batch_size = 64\n",
    "\n",
    "# test_loader = torch.utils.data.DataLoader(dataset=faults_dataset_test, \n",
    "#                                            batch_size=batch_size, \n",
    "#                                            shuffle=False)\n",
    "faults_dataset_test = faultsDataset(X)\n",
    "\n",
    "batch_size = 64\n",
    "\n",
    "test_loader = torch.utils.data.DataLoader(dataset=faults_dataset_test, \n",
    "                                           batch_size=batch_size, \n",
    "                                           shuffle=False)"
   ]
  },
  {
   "cell_type": "code",
   "execution_count": 19,
   "metadata": {},
   "outputs": [
    {
     "name": "stdout",
     "output_type": "stream",
     "text": [
      "use model HED\n",
      "/home/anyu/myproject/venv/an/all_model_new/hed_96_48_900200_seed.model\n",
      "hed_96_48_900200_seed\n",
      "----------------------------------------------------------------\n",
      "        Layer (type)               Output Shape         Param #\n",
      "================================================================\n",
      "            Conv2d-1           [-1, 32, 96, 96]             320\n",
      "              ReLU-2           [-1, 32, 96, 96]               0\n",
      "           Dropout-3           [-1, 32, 96, 96]               0\n",
      "            Conv2d-4           [-1, 32, 96, 96]           9,248\n",
      "              ReLU-5           [-1, 32, 96, 96]               0\n",
      "           Dropout-6           [-1, 32, 96, 96]               0\n",
      "         MaxPool2d-7           [-1, 32, 48, 48]               0\n",
      "            Conv2d-8           [-1, 64, 48, 48]          18,496\n",
      "              ReLU-9           [-1, 64, 48, 48]               0\n",
      "          Dropout-10           [-1, 64, 48, 48]               0\n",
      "           Conv2d-11           [-1, 64, 48, 48]          36,928\n",
      "             ReLU-12           [-1, 64, 48, 48]               0\n",
      "          Dropout-13           [-1, 64, 48, 48]               0\n",
      "        MaxPool2d-14           [-1, 64, 24, 24]               0\n",
      "           Conv2d-15          [-1, 128, 24, 24]          73,856\n",
      "             ReLU-16          [-1, 128, 24, 24]               0\n",
      "          Dropout-17          [-1, 128, 24, 24]               0\n",
      "           Conv2d-18          [-1, 128, 24, 24]         147,584\n",
      "             ReLU-19          [-1, 128, 24, 24]               0\n",
      "          Dropout-20          [-1, 128, 24, 24]               0\n",
      "           Conv2d-21          [-1, 128, 24, 24]         147,584\n",
      "             ReLU-22          [-1, 128, 24, 24]               0\n",
      "          Dropout-23          [-1, 128, 24, 24]               0\n",
      "        MaxPool2d-24          [-1, 128, 12, 12]               0\n",
      "           Conv2d-25          [-1, 256, 12, 12]         295,168\n",
      "             ReLU-26          [-1, 256, 12, 12]               0\n",
      "          Dropout-27          [-1, 256, 12, 12]               0\n",
      "           Conv2d-28          [-1, 256, 12, 12]         590,080\n",
      "             ReLU-29          [-1, 256, 12, 12]               0\n",
      "          Dropout-30          [-1, 256, 12, 12]               0\n",
      "           Conv2d-31          [-1, 256, 12, 12]         590,080\n",
      "             ReLU-32          [-1, 256, 12, 12]               0\n",
      "          Dropout-33          [-1, 256, 12, 12]               0\n",
      "        MaxPool2d-34          [-1, 256, 11, 11]               0\n",
      "           Conv2d-35          [-1, 256, 11, 11]         590,080\n",
      "             ReLU-36          [-1, 256, 11, 11]               0\n",
      "          Dropout-37          [-1, 256, 11, 11]               0\n",
      "           Conv2d-38          [-1, 256, 11, 11]         590,080\n",
      "             ReLU-39          [-1, 256, 11, 11]               0\n",
      "          Dropout-40          [-1, 256, 11, 11]               0\n",
      "           Conv2d-41          [-1, 256, 11, 11]         590,080\n",
      "             ReLU-42          [-1, 256, 11, 11]               0\n",
      "          Dropout-43          [-1, 256, 11, 11]               0\n",
      "           Conv2d-44           [-1, 21, 96, 96]             693\n",
      "          Dropout-45           [-1, 21, 96, 96]               0\n",
      "           Conv2d-46           [-1, 21, 48, 48]           1,365\n",
      "          Dropout-47           [-1, 21, 48, 48]               0\n",
      "           Conv2d-48           [-1, 21, 24, 24]           2,709\n",
      "          Dropout-49           [-1, 21, 24, 24]               0\n",
      "           Conv2d-50           [-1, 21, 12, 12]           5,397\n",
      "          Dropout-51           [-1, 21, 12, 12]               0\n",
      "           Conv2d-52           [-1, 21, 11, 11]           5,397\n",
      "          Dropout-53           [-1, 21, 11, 11]               0\n",
      "           Conv2d-54            [-1, 1, 96, 96]              22\n",
      "           Conv2d-55            [-1, 1, 48, 48]              22\n",
      "           Conv2d-56            [-1, 1, 24, 24]              22\n",
      "           Conv2d-57            [-1, 1, 12, 12]              22\n",
      "           Conv2d-58            [-1, 1, 11, 11]              22\n",
      "           Conv2d-59            [-1, 1, 96, 96]               6\n",
      "================================================================\n",
      "Total params: 3,695,261\n",
      "Trainable params: 3,695,261\n",
      "Non-trainable params: 0\n",
      "----------------------------------------------------------------\n",
      "Input size (MB): 0.04\n",
      "Forward/backward pass size (MB): 35.32\n",
      "Params size (MB): 14.10\n",
      "Estimated Total Size (MB): 49.45\n",
      "----------------------------------------------------------------\n"
     ]
    }
   ],
   "source": [
    "best_iou_threshold = 0.5\n",
    "modelNo = 2\n",
    "device = torch.device(\"cuda\")\n",
    "if modelNo == 0:\n",
    "    from model_zoo.UNET import Unet\n",
    "    model = Unet()\n",
    "    print(\"use model Unet\")\n",
    "    best_model_fpath = '/home/anyu/myproject/venv/an/all_model_new/noaugmodels900200/unet_96_48_900200_2.model' #unet_96_48_weightloss.model\n",
    "    save_path = 'unet_96_48_900200_2'\n",
    "elif modelNo == 1:\n",
    "    from model_zoo.DEEPLAB.deeplab import DeepLab\n",
    "    model = DeepLab(backbone='mobilenet', num_classes=1, output_stride=16)\n",
    "    print(\"use model DeepLab\")\n",
    "    best_model_fpath = '/home/anyu/myproject/venv/an/all_model_new/noaugmodels900200/mobilenet_96_48_900200_2.model'\n",
    "    save_path = 'mobilenet_96_48_900200_2'\n",
    "elif modelNo == 2:\n",
    "    from model_zoo.HED import HED\n",
    "    model = HED()\n",
    "    print(\"use model HED\") #hed_96_48_aug_ShiftScaleRotate.model\n",
    "    best_model_fpath = '/home/anyu/myproject/venv/an/all_model_new/hed_96_48_900200_seed.model'\n",
    "    save_path = 'hed_96_48_900200_seed'\n",
    "elif modelNo == 21:\n",
    "    from model_zoo.HED_crop import HED\n",
    "    model = HED(sizeaftercrop=stepsize)\n",
    "    print(\"use model HEDcrop\")\n",
    "    best_model_fpath = 'hedcrop_checkpoint.pt'\n",
    "    save_path = 'thebepred_hedcrop'\n",
    "elif modelNo == 3:\n",
    "    from model_zoo.RCF import RCF\n",
    "    model = RCF()\n",
    "    print(\"use model RCF\")\n",
    "    best_model_fpath = '/home/anyu/myproject/venv/an/all_model_new/noaugmodels900200/rcf_96_48_900200.model'\n",
    "    save_path = 'rcf_96_48_900200'\n",
    "else:\n",
    "    from model_zoo.CED import CED\n",
    "    model = CED()\n",
    "    print(\"use model CED\")\n",
    "print(best_model_fpath)\n",
    "print(save_path)\n",
    "model.load_state_dict(torch.load(best_model_fpath, map_location=\"cuda:0\"))  # Choose whatever GPU device number you want\n",
    "model.to(device)\n",
    "# model.cuda();\n",
    "summary(model, (1, splitsize, splitsize))#,device='cpu')"
   ]
  },
  {
   "cell_type": "code",
   "execution_count": null,
   "metadata": {},
   "outputs": [
    {
     "name": "stdout",
     "output_type": "stream",
     "text": [
      "save\n"
     ]
    }
   ],
   "source": [
    "def saveResults(save_path, test_loader, epoch):\n",
    "    WINDOW_SPLINE_2D = window_2D(window_size=splitsize, power=2)\n",
    "    os.makedirs(save_path, exist_ok=True)\n",
    "\n",
    "    test_predictions = []\n",
    "    imageNo = -1\n",
    "    for images in test_loader:\n",
    "#         images = Variable(images)\n",
    "        \n",
    "        images = Variable(images.cuda())\n",
    "        outputs = model(images)\n",
    "        y_preds = outputs\n",
    "        if modelNo == 2 or modelNo == 21:\n",
    "            y_preds = outputs[-2]\n",
    "        elif modelNo == 3:\n",
    "            y_preds = outputs[-1]\n",
    "#         predicted_mask = y_preds > best_iou_threshold\n",
    "        test_predictions.extend(y_preds.detach().cpu())\n",
    "#         print(test_predictions[0].dtype)\n",
    "#         print(len(test_predictions))\n",
    "        if len(test_predictions)>=vertical_splits_number*horizontal_splits_number:\n",
    "            imageNo = imageNo +1\n",
    "            tosave = torch.stack(test_predictions).detach().cpu().numpy()[0:vertical_splits_number*horizontal_splits_number]\n",
    "#             print(tosave.shape)\n",
    "            test_predictions = test_predictions[vertical_splits_number*horizontal_splits_number:]\n",
    "\n",
    "            \n",
    "            tosave = np.moveaxis(tosave,-3,-1)\n",
    "#             print(tosave.shape)\n",
    "            tosave = np.array([patch * WINDOW_SPLINE_2D for patch in tosave])\n",
    "#             print(tosave.shape)\n",
    "#             break\n",
    "        \n",
    "            tosave = tosave.reshape((vertical_splits_number, horizontal_splits_number, splitsize,splitsize,1))\n",
    "#             print(tosave.shape)\n",
    "\n",
    "            recover_Y_test_pred = recover_Image2(tosave, (im_height,im_width,1), left_pad,right_pad,top_pad,bottom_pad,overlapsize)\n",
    "\n",
    "            os.makedirs(save_path, exist_ok=True)\n",
    "            np.save(os.path.join(save_path,\"{}\".format(imageNo)),np.squeeze(recover_Y_test_pred))   \n",
    "            \n",
    "            \n",
    "\n",
    "print(\"save\")\n",
    "t1 = time.time()\n",
    "saveResults(save_path, test_loader, 100)\n",
    "t2 = time.time()\n",
    "print('save in {} sec'.format(t2-t1))"
   ]
  },
  {
   "cell_type": "code",
   "execution_count": null,
   "metadata": {},
   "outputs": [],
   "source": [
    "# save_path = 'augtest/noaug'\n",
    "import numpy as np\n",
    "import os"
   ]
  },
  {
   "cell_type": "code",
   "execution_count": null,
   "metadata": {},
   "outputs": [],
   "source": [
    "a = np.load(os.path.join(save_path,\"20.npy\"))\n",
    "# b = np.load(os.path.join(\"/home/anyu/myproject/venv/an/pieces/HED/dropout/0.2/testGTs\",\"0.npy\"))"
   ]
  },
  {
   "cell_type": "code",
   "execution_count": null,
   "metadata": {},
   "outputs": [],
   "source": [
    "# import numpy as np \n",
    "# import matplotlib.pyplot as plt\n",
    "# fig = plt.figure(figsize=(20,16))\n",
    "# plt.imshow(np.fliplr(a),cmap=\"Reds\",vmin=0)\n",
    "# plt.axis('off')\n",
    "# # plt.colorbar(shrink=0.5)\n",
    "# plt.show()\n",
    "# plt.figure(figsize=(20,16))\n",
    "# plt.imshow(seis[0],cmap='seismic')\n",
    "# plt.axis('off')\n",
    "# # plt.colorbar(shrink=0.5)\n",
    "# plt.show()"
   ]
  },
  {
   "cell_type": "code",
   "execution_count": null,
   "metadata": {},
   "outputs": [],
   "source": [
    "import cv2\n",
    "import cmapy"
   ]
  },
  {
   "cell_type": "code",
   "execution_count": null,
   "metadata": {
    "scrolled": true
   },
   "outputs": [],
   "source": [
    "heatmap_img = cv2.applyColorMap((a*255).astype(np.uint8), cmapy.cmap('jet_r'))\n",
    "plt.figure(figsize=(20,16))\n",
    "plt.imshow(heatmap_img)\n",
    "# plt.colorbar(shrink=0.5)\n",
    "# plt.axis('off')\n",
    "plt.show()\n",
    "# fin = cv2.addWeighted(heatmap_img/255, 0.6, img_colorized/255, 0.4, 0)\n",
    "# plt.figure(figsize=(20,16))\n",
    "# plt.imshow(fin, vmin=0)\n",
    "# # plt.colorbar(shrink=0.5)\n",
    "# plt.axis('off')\n",
    "# plt.show()"
   ]
  },
  {
   "cell_type": "code",
   "execution_count": null,
   "metadata": {},
   "outputs": [],
   "source": [
    "# heatmap_img = cv2.applyColorMap((a*255).astype(np.uint8), cmapy.cmap('Greens'))\n",
    "# plt.figure(figsize=(20,16))\n",
    "# plt.imshow(heatmap_img)\n",
    "# # plt.colorbar(shrink=0.5)\n",
    "# plt.axis('off')\n",
    "# plt.show()\n",
    "# fin = cv2.addWeighted(heatmap_img/255, 0.6, img_colorized/255, 0.4, 0)\n",
    "# plt.figure(figsize=(20,16))\n",
    "# plt.imshow(fin, vmin=0)\n",
    "# # plt.colorbar(shrink=0.5)\n",
    "# plt.axis('off')\n",
    "# plt.show()"
   ]
  },
  {
   "cell_type": "code",
   "execution_count": null,
   "metadata": {},
   "outputs": [],
   "source": [
    "label_path = '/data/anyu/faulttest.npy'\n",
    "fault = np.load(label_path)"
   ]
  },
  {
   "cell_type": "code",
   "execution_count": null,
   "metadata": {},
   "outputs": [],
   "source": [
    "gt = fault[100]\n",
    "print(gt.shape)\n",
    "plt.figure(figsize=(20,16))\n",
    "plt.imshow(gt)\n",
    "plt.axis('off')\n",
    "plt.show()"
   ]
  },
  {
   "cell_type": "code",
   "execution_count": null,
   "metadata": {},
   "outputs": [],
   "source": [
    "gt = fault[100,800:1300,:]\n",
    "print(gt.shape)"
   ]
  },
  {
   "cell_type": "code",
   "execution_count": null,
   "metadata": {},
   "outputs": [],
   "source": [
    "plt.imshow(gt)\n",
    "plt.axis('off')\n",
    "plt.show()"
   ]
  },
  {
   "cell_type": "code",
   "execution_count": null,
   "metadata": {},
   "outputs": [],
   "source": [
    "gt = gt.astype(np.float32)"
   ]
  },
  {
   "cell_type": "code",
   "execution_count": null,
   "metadata": {},
   "outputs": [],
   "source": [
    "gt2 = cv2.resize(gt,(1587,250))\n",
    "print(gt2.shape)\n",
    "plt.imshow(gt2)\n",
    "plt.axis('off')\n",
    "plt.show()"
   ]
  },
  {
   "cell_type": "code",
   "execution_count": null,
   "metadata": {},
   "outputs": [],
   "source": [
    "plt.imshow(fault[100])\n",
    "plt.axis('off')\n",
    "plt.show()"
   ]
  },
  {
   "cell_type": "code",
   "execution_count": null,
   "metadata": {},
   "outputs": [],
   "source": [
    "print(fault[100].shape)"
   ]
  },
  {
   "cell_type": "code",
   "execution_count": null,
   "metadata": {},
   "outputs": [],
   "source": [
    "b = cv2.resize(fault[100],(700,1587))\n",
    "print(b.shape)"
   ]
  },
  {
   "cell_type": "code",
   "execution_count": null,
   "metadata": {},
   "outputs": [],
   "source": [
    "plt.imshow(b)\n",
    "plt.axis('off')\n",
    "plt.show()"
   ]
  },
  {
   "cell_type": "code",
   "execution_count": null,
   "metadata": {},
   "outputs": [],
   "source": [
    "fin = cv2.addWeighted(fault[100].astype(np.float64), 0.2, seis[100], 0.8, 0)\n",
    "plt.figure(figsize=(20,16))\n",
    "plt.imshow(fin, cmap='seismic')\n",
    "# plt.colorbar(shrink=0.5)\n",
    "# plt.axis('off')\n",
    "plt.show()"
   ]
  },
  {
   "cell_type": "code",
   "execution_count": null,
   "metadata": {},
   "outputs": [],
   "source": []
  },
  {
   "cell_type": "code",
   "execution_count": null,
   "metadata": {},
   "outputs": [],
   "source": [
    "# fin = cv2.addWeighted(fault[104].astype(np.float64), 0.2, seis[104], 0.8, 0)\n",
    "# plt.figure(figsize=(20,16))\n",
    "# plt.imshow(fin, cmap='seismic')\n",
    "# # plt.colorbar(shrink=0.5)\n",
    "# # plt.axis('off')\n",
    "# plt.show()"
   ]
  },
  {
   "cell_type": "code",
   "execution_count": null,
   "metadata": {},
   "outputs": [],
   "source": [
    "# fin = cv2.addWeighted(fault[105].astype(np.float64), 0.2, seis[105], 0.8, 0)\n",
    "# plt.figure(figsize=(20,16))\n",
    "# plt.imshow(fin, cmap='seismic')\n",
    "# # plt.colorbar(shrink=0.5)\n",
    "# # plt.axis('off')\n",
    "# plt.show()"
   ]
  },
  {
   "cell_type": "code",
   "execution_count": null,
   "metadata": {},
   "outputs": [],
   "source": [
    "# print(fault[100,337:,0:900].astype(np.float32).shape)\n",
    "# print(seis[0].dtype)"
   ]
  },
  {
   "cell_type": "code",
   "execution_count": null,
   "metadata": {},
   "outputs": [],
   "source": [
    "import cv2"
   ]
  },
  {
   "cell_type": "code",
   "execution_count": null,
   "metadata": {},
   "outputs": [],
   "source": [
    "a = np.arange(100).reshape((10,10))\n",
    "print(a)\n",
    "a_s= np.resize(a,(5,5))\n",
    "# a_s = cv2.resize(a,(5,5))\n",
    "print(a_s)"
   ]
  },
  {
   "cell_type": "code",
   "execution_count": null,
   "metadata": {},
   "outputs": [],
   "source": []
  },
  {
   "cell_type": "code",
   "execution_count": null,
   "metadata": {},
   "outputs": [],
   "source": []
  }
 ],
 "metadata": {
  "kernelspec": {
   "display_name": "Python 3",
   "language": "python",
   "name": "python3"
  },
  "language_info": {
   "codemirror_mode": {
    "name": "ipython",
    "version": 3
   },
   "file_extension": ".py",
   "mimetype": "text/x-python",
   "name": "python",
   "nbconvert_exporter": "python",
   "pygments_lexer": "ipython3",
   "version": "3.6.6"
  }
 },
 "nbformat": 4,
 "nbformat_minor": 2
}
