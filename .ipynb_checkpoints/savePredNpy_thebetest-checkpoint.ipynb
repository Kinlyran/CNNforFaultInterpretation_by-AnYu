{
 "cells": [
  {
   "cell_type": "code",
   "execution_count": 1,
   "metadata": {},
   "outputs": [],
   "source": [
    "from functions import *\n",
    "import cmapy\n",
    "\n",
    "os.environ[\"CUDA_VISIBLE_DEVICES\"] = \"3\"  # Only GPU 1 is visible to this code"
   ]
  },
  {
   "cell_type": "code",
   "execution_count": 2,
   "metadata": {},
   "outputs": [],
   "source": [
    "seis_path = '/data/anyu/thebetraintest/seistest.npy'"
   ]
  },
  {
   "cell_type": "code",
   "execution_count": 3,
   "metadata": {},
   "outputs": [],
   "source": [
    "seis = np.load(seis_path)"
   ]
  },
  {
   "cell_type": "code",
   "execution_count": 4,
   "metadata": {},
   "outputs": [
    {
     "name": "stdout",
     "output_type": "stream",
     "text": [
      "703 1537 3174\n"
     ]
    }
   ],
   "source": [
    "IL, Z, XL = seis.shape\n",
    "print(IL, Z, XL)"
   ]
  },
  {
   "cell_type": "code",
   "execution_count": 5,
   "metadata": {},
   "outputs": [
    {
     "name": "stdout",
     "output_type": "stream",
     "text": [
      "(703, 1537, 3174)\n"
     ]
    }
   ],
   "source": [
    "fault = np.load(\"/data/anyu/thebetraintest/faulttest.npy\")\n",
    "print(fault.shape)"
   ]
  },
  {
   "cell_type": "markdown",
   "metadata": {},
   "source": [
    "Make input is IL, Z, XL order."
   ]
  },
  {
   "cell_type": "code",
   "execution_count": 5,
   "metadata": {},
   "outputs": [
    {
     "name": "stdout",
     "output_type": "stream",
     "text": [
      "(703, 1537, 3174)\n"
     ]
    }
   ],
   "source": [
    "print(seis.shape)"
   ]
  },
  {
   "cell_type": "code",
   "execution_count": 6,
   "metadata": {},
   "outputs": [],
   "source": [
    "im_height = Z\n",
    "im_width = XL\n",
    "splitsize = 96\n",
    "stepsize = 48 #overlap half\n",
    "overlapsize = splitsize-stepsize"
   ]
  },
  {
   "cell_type": "code",
   "execution_count": 7,
   "metadata": {},
   "outputs": [
    {
     "name": "stdout",
     "output_type": "stream",
     "text": [
      "34\n",
      "3264\n",
      "45 45\n",
      "17\n",
      "1632\n",
      "47 48\n"
     ]
    }
   ],
   "source": [
    "horizontal_splits_number = int(np.ceil((im_width)/stepsize))\n",
    "print(horizontal_splits_number)\n",
    "width_after_pad = stepsize*horizontal_splits_number+2*overlapsize\n",
    "print(width_after_pad)\n",
    "left_pad = int((width_after_pad-im_width)/2)\n",
    "right_pad = width_after_pad-im_width-left_pad\n",
    "print(left_pad,right_pad)\n",
    "\n",
    "vertical_splits_number = int(np.ceil((im_height)/stepsize))\n",
    "print(vertical_splits_number)\n",
    "height_after_pad = stepsize*vertical_splits_number+2*overlapsize\n",
    "print(height_after_pad)\n",
    "top_pad = int((height_after_pad-im_height)/2)\n",
    "bottom_pad = height_after_pad-im_height-top_pad\n",
    "print(top_pad,bottom_pad)"
   ]
  },
  {
   "cell_type": "code",
   "execution_count": 8,
   "metadata": {},
   "outputs": [],
   "source": [
    "horizontal_splits_number = horizontal_splits_number+1\n",
    "print(horizontal_splits_number)\n",
    "vertical_splits_number = vertical_splits_number+1\n",
    "print(vertical_splits_number)"
   ]
  },
  {
   "cell_type": "code",
   "execution_count": 9,
   "metadata": {},
   "outputs": [
    {
     "name": "stdout",
     "output_type": "stream",
     "text": [
      "0\n"
     ]
    }
   ],
   "source": [
    "halfoverlapsize = int(overlapsize/2)\n",
    "print(halfoverlapsize)"
   ]
  },
  {
   "cell_type": "code",
   "execution_count": 10,
   "metadata": {},
   "outputs": [
    {
     "name": "stdout",
     "output_type": "stream",
     "text": [
      "703\n"
     ]
    }
   ],
   "source": [
    "print(len(seis))"
   ]
  },
  {
   "cell_type": "code",
   "execution_count": 11,
   "metadata": {},
   "outputs": [
    {
     "name": "stdout",
     "output_type": "stream",
     "text": [
      "578\n",
      "(96, 96)\n",
      "read images in 0.033724069595336914 sec\n",
      "(578, 96, 96)\n",
      "read images in 0.048316001892089844 sec\n"
     ]
    }
   ],
   "source": [
    "t_start = time.time()\n",
    "X_list = []\n",
    "for i in range(100,105,5): #len(seis)\n",
    "    img = seis[i]\n",
    "    X_list.extend(split_Image(img,True,top_pad,bottom_pad,left_pad,right_pad,splitsize,stepsize,vertical_splits_number,horizontal_splits_number))\n",
    "    \n",
    "print(len(X_list))\n",
    "print(X_list[0].shape)\n",
    "print(\"read images in {} sec\".format(time.time()-t_start))\n",
    "X = np.asarray(X_list)\n",
    "print(X.shape)\n",
    "print(\"read images in {} sec\".format(time.time()-t_start))\n",
    "\n",
    "# X_norm = X\n",
    "\n",
    "# if len(X_norm.shape) == 3:\n",
    "#     X_norm = np.expand_dims(X_norm, axis=1)\n",
    "# print(X_norm.shape) #float32"
   ]
  },
  {
   "cell_type": "code",
   "execution_count": 12,
   "metadata": {},
   "outputs": [
    {
     "name": "stdout",
     "output_type": "stream",
     "text": [
      "(578, 1, 96, 96)\n"
     ]
    }
   ],
   "source": [
    "X = X.astype(np.float32)\n",
    "X = np.expand_dims(X,1)\n",
    "print(X.shape)"
   ]
  },
  {
   "cell_type": "code",
   "execution_count": 13,
   "metadata": {},
   "outputs": [],
   "source": [
    "# idea from: https://www.kaggle.com/erikistre/pytorch-basic-u-net\n",
    "class faultsDataset(torch.utils.data.Dataset):\n",
    "\n",
    "    def __init__(self,preprocessed_images):\n",
    "        \"\"\"\n",
    "        Args:\n",
    "            text_file(string): path to text file\n",
    "            root_dir(string): directory with all train images\n",
    "        \"\"\"\n",
    "\n",
    "        self.images = preprocessed_images\n",
    "\n",
    "\n",
    "    def __len__(self):\n",
    "        return len(self.images)\n",
    "\n",
    "    def __getitem__(self, idx):\n",
    "        image = self.images[idx]\n",
    "        return image\n"
   ]
  },
  {
   "cell_type": "code",
   "execution_count": 14,
   "metadata": {},
   "outputs": [],
   "source": [
    "\n",
    "faults_dataset_test = faultsDataset(X)\n",
    "\n",
    "batch_size = 64\n",
    "\n",
    "test_loader = torch.utils.data.DataLoader(dataset=faults_dataset_test, \n",
    "                                           batch_size=batch_size, \n",
    "                                           shuffle=False)"
   ]
  },
  {
   "cell_type": "code",
   "execution_count": 15,
   "metadata": {},
   "outputs": [
    {
     "name": "stdout",
     "output_type": "stream",
     "text": [
      "use model Unet\n",
      "/home/anyu/myproject/venv/an/all_model_new/sharefiles_origin/noaugmodelsseed/unet_96_48_900200_seed.model\n",
      "/home/anyu/myproject/venv/an/all_model_new/sharefiles_origin/noaugmodelsseed/overlap_clean_predictions/unet_96_48_900200_seed_average\n",
      "----------------------------------------------------------------\n",
      "        Layer (type)               Output Shape         Param #\n",
      "================================================================\n",
      "            Conv2d-1           [-1, 32, 96, 96]             320\n",
      "       BatchNorm2d-2           [-1, 32, 96, 96]              64\n",
      "              ReLU-3           [-1, 32, 96, 96]               0\n",
      "         Dropout2d-4           [-1, 32, 96, 96]               0\n",
      "            Conv2d-5           [-1, 32, 96, 96]           9,248\n",
      "       BatchNorm2d-6           [-1, 32, 96, 96]              64\n",
      "              ReLU-7           [-1, 32, 96, 96]               0\n",
      "         Dropout2d-8           [-1, 32, 96, 96]               0\n",
      "       double_conv-9           [-1, 32, 96, 96]               0\n",
      "        MaxPool2d-10           [-1, 32, 48, 48]               0\n",
      "           Conv2d-11           [-1, 64, 48, 48]          18,496\n",
      "      BatchNorm2d-12           [-1, 64, 48, 48]             128\n",
      "             ReLU-13           [-1, 64, 48, 48]               0\n",
      "        Dropout2d-14           [-1, 64, 48, 48]               0\n",
      "           Conv2d-15           [-1, 64, 48, 48]          36,928\n",
      "      BatchNorm2d-16           [-1, 64, 48, 48]             128\n",
      "             ReLU-17           [-1, 64, 48, 48]               0\n",
      "        Dropout2d-18           [-1, 64, 48, 48]               0\n",
      "      double_conv-19           [-1, 64, 48, 48]               0\n",
      "        MaxPool2d-20           [-1, 64, 24, 24]               0\n",
      "           Conv2d-21          [-1, 128, 24, 24]          73,856\n",
      "      BatchNorm2d-22          [-1, 128, 24, 24]             256\n",
      "             ReLU-23          [-1, 128, 24, 24]               0\n",
      "        Dropout2d-24          [-1, 128, 24, 24]               0\n",
      "           Conv2d-25          [-1, 128, 24, 24]         147,584\n",
      "      BatchNorm2d-26          [-1, 128, 24, 24]             256\n",
      "             ReLU-27          [-1, 128, 24, 24]               0\n",
      "        Dropout2d-28          [-1, 128, 24, 24]               0\n",
      "      double_conv-29          [-1, 128, 24, 24]               0\n",
      "        MaxPool2d-30          [-1, 128, 12, 12]               0\n",
      "           Conv2d-31          [-1, 256, 14, 14]         295,168\n",
      "      BatchNorm2d-32          [-1, 256, 14, 14]             512\n",
      "             ReLU-33          [-1, 256, 14, 14]               0\n",
      "        Dropout2d-34          [-1, 256, 14, 14]               0\n",
      "           Conv2d-35          [-1, 256, 16, 16]         590,080\n",
      "      BatchNorm2d-36          [-1, 256, 16, 16]             512\n",
      "             ReLU-37          [-1, 256, 16, 16]               0\n",
      "        Dropout2d-38          [-1, 256, 16, 16]               0\n",
      "      double_conv-39          [-1, 256, 16, 16]               0\n",
      "  ConvTranspose2d-40          [-1, 128, 32, 32]         131,200\n",
      "           Conv2d-41          [-1, 128, 26, 26]         295,040\n",
      "      BatchNorm2d-42          [-1, 128, 26, 26]             256\n",
      "             ReLU-43          [-1, 128, 26, 26]               0\n",
      "        Dropout2d-44          [-1, 128, 26, 26]               0\n",
      "           Conv2d-45          [-1, 128, 28, 28]         147,584\n",
      "      BatchNorm2d-46          [-1, 128, 28, 28]             256\n",
      "             ReLU-47          [-1, 128, 28, 28]               0\n",
      "        Dropout2d-48          [-1, 128, 28, 28]               0\n",
      "      double_conv-49          [-1, 128, 28, 28]               0\n",
      "  ConvTranspose2d-50           [-1, 64, 56, 56]          32,832\n",
      "           Conv2d-51           [-1, 64, 50, 50]          73,792\n",
      "      BatchNorm2d-52           [-1, 64, 50, 50]             128\n",
      "             ReLU-53           [-1, 64, 50, 50]               0\n",
      "        Dropout2d-54           [-1, 64, 50, 50]               0\n",
      "           Conv2d-55           [-1, 64, 52, 52]          36,928\n",
      "      BatchNorm2d-56           [-1, 64, 52, 52]             128\n",
      "             ReLU-57           [-1, 64, 52, 52]               0\n",
      "        Dropout2d-58           [-1, 64, 52, 52]               0\n",
      "      double_conv-59           [-1, 64, 52, 52]               0\n",
      "  ConvTranspose2d-60         [-1, 32, 104, 104]           8,224\n",
      "           Conv2d-61           [-1, 32, 98, 98]          18,464\n",
      "      BatchNorm2d-62           [-1, 32, 98, 98]              64\n",
      "             ReLU-63           [-1, 32, 98, 98]               0\n",
      "        Dropout2d-64           [-1, 32, 98, 98]               0\n",
      "           Conv2d-65         [-1, 32, 100, 100]           9,248\n",
      "      BatchNorm2d-66         [-1, 32, 100, 100]              64\n",
      "             ReLU-67         [-1, 32, 100, 100]               0\n",
      "        Dropout2d-68         [-1, 32, 100, 100]               0\n",
      "      double_conv-69         [-1, 32, 100, 100]               0\n",
      "           Conv2d-70          [-1, 1, 100, 100]              33\n",
      "================================================================\n",
      "Total params: 1,927,841\n",
      "Trainable params: 1,927,841\n",
      "Non-trainable params: 0\n",
      "----------------------------------------------------------------\n",
      "Input size (MB): 0.04\n",
      "Forward/backward pass size (MB): 85.24\n",
      "Params size (MB): 7.35\n",
      "Estimated Total Size (MB): 92.63\n",
      "----------------------------------------------------------------\n"
     ]
    }
   ],
   "source": [
    "modelNo = 0\n",
    "currentpath = \"/home/anyu/myproject/venv/an/all_model_new/sharefiles_origin/noaugmodelsseed\"\n",
    "mergemethod = \"smooth\" # smooth average crop\n",
    "device = torch.device(\"cuda\")\n",
    "if modelNo == 0:\n",
    "    from model_zoo.UNET import Unet\n",
    "    model = Unet()\n",
    "    print(\"use model Unet\")\n",
    "    modelname = \"unet_96_48_900200_seed\"\n",
    "    best_model_fpath = '{}/{}.model'.format(currentpath,modelname) #models/\n",
    "    save_path = '{}/overlap_clean_predictions/{}_{}'.format(currentpath,modelname,mergemethod)\n",
    "elif modelNo == 1:\n",
    "    from model_zoo.DEEPLAB.deeplab import DeepLab\n",
    "    model = DeepLab(backbone='mobilenet', num_classes=1, output_stride=16)\n",
    "    print(\"use model DeepLab\")\n",
    "    modelname = \"mobilenet_96_48_900200_seed\"\n",
    "    best_model_fpath = '{}/{}.model'.format(currentpath,modelname) #models/\n",
    "    save_path = '{}/overlap_clean_predictions/{}_{}'.format(currentpath,modelname,mergemethod)\n",
    "elif modelNo == 2:\n",
    "    from model_zoo.HED import HED\n",
    "    model = HED()\n",
    "    print(\"use model HED\") \n",
    "    modelname = \"hed_96_48_900200_seed3\"\n",
    "    best_model_fpath = '{}/{}.model'.format(currentpath,modelname) #models/\n",
    "    save_path = '{}/overlap_clean_predictions/{}_{}'.format(currentpath,modelname,mergemethod)\n",
    "elif modelNo == 3:\n",
    "    from model_zoo.RCF import RCF\n",
    "    model = RCF()\n",
    "    print(\"use model RCF\")\n",
    "    modelname = \"rcf_96_48_900200_seed\"\n",
    "    best_model_fpath = '{}/{}.model'.format(currentpath,modelname) #models/\n",
    "    save_path = '{}/overlap_clean_predictions/{}_{}'.format(currentpath,modelname,mergemethod)\n",
    "else:\n",
    "    print(\"please enter a valid model\")\n",
    "print(best_model_fpath)\n",
    "print(save_path)\n",
    "model.load_state_dict(torch.load(best_model_fpath, map_location=\"cuda:0\"))  # Choose whatever GPU device number you want\n",
    "model.to(device)\n",
    "summary(model, (1, splitsize, splitsize))#,device='cpu')"
   ]
  },
  {
   "cell_type": "code",
   "execution_count": 16,
   "metadata": {},
   "outputs": [
    {
     "name": "stdout",
     "output_type": "stream",
     "text": [
      "UPPER_BOUND 800\n",
      "LOWER_BOUND 1300\n",
      "save\n",
      "save in 0.5154955387115479 sec\n"
     ]
    }
   ],
   "source": [
    "UPPER_BOUND = 800\n",
    "LOWER_BOUND = 1300\n",
    "print(\"UPPER_BOUND\",UPPER_BOUND)\n",
    "print(\"LOWER_BOUND\",LOWER_BOUND)\n",
    "    \n",
    "def saveResults(save_path, test_loader):     \n",
    "    os.makedirs(save_path, exist_ok=True)\n",
    "\n",
    "    test_predictions = []\n",
    "    imageNo = -1\n",
    "    for images in test_loader:\n",
    "        images = Variable(images.cuda())\n",
    "        outputs = model(images)\n",
    "        y_preds = outputs\n",
    "        if modelNo == 2:\n",
    "            y_preds = outputs[-2]\n",
    "        elif modelNo == 3:\n",
    "            y_preds = outputs[-1]\n",
    "        test_predictions.extend(y_preds.detach().cpu())\n",
    "        if len(test_predictions)>=vertical_splits_number*horizontal_splits_number:\n",
    "            imageNo = imageNo +1\n",
    "            tosave = torch.stack(test_predictions).detach().cpu().numpy()[0:vertical_splits_number*horizontal_splits_number]\n",
    "            test_predictions = test_predictions[vertical_splits_number*horizontal_splits_number:]\n",
    "\n",
    "            if mergemethod == \"smooth\":\n",
    "                WINDOW_SPLINE_2D = window_2D(window_size=splitsize, power=2)\n",
    "                tosave = np.moveaxis(tosave,-3,-1)\n",
    "                tosave = np.array([patch * WINDOW_SPLINE_2D for patch in tosave])\n",
    "                tosave = tosave.reshape((vertical_splits_number, horizontal_splits_number, splitsize,splitsize,1))\n",
    "                recover_Y_test_pred = recover_Image2(tosave, (im_height,im_width,1), left_pad,right_pad,top_pad,bottom_pad,overlapsize)\n",
    "                os.makedirs(save_path, exist_ok=True)\n",
    "                np.save(os.path.join(save_path,\"{}\".format(imageNo)),np.squeeze(recover_Y_test_pred)[UPPER_BOUND:LOWER_BOUND,:])   \n",
    "            elif mergemethod == \"average\":\n",
    "                tosave = tosave.reshape((vertical_splits_number, horizontal_splits_number, splitsize,splitsize,1))\n",
    "                recover_Y_test_pred = recover_Image(tosave, (im_height,im_width,1), left_pad,right_pad,top_pad,bottom_pad, overlapsize)\n",
    "                os.makedirs(save_path, exist_ok=True)\n",
    "                np.save(os.path.join(save_path,\"{}\".format(imageNo)),np.squeeze(recover_Y_test_pred)[UPPER_BOUND:LOWER_BOUND,:])\n",
    "            elif mergemethod == \"crop\":\n",
    "                tosave= crop2(tosave,48,48)\n",
    "                tosave = tosave.reshape((vertical_splits_number, horizontal_splits_number, 48,48,1))\n",
    "                recover_Y_test_pred = recover_Image(tosave, (im_height,im_width,1), left_pad-halfoverlapsize,right_pad-halfoverlapsize,top_pad-halfoverlapsize,bottom_pad-halfoverlapsize,0)\n",
    "                os.makedirs(save_path, exist_ok=True)\n",
    "                np.save(os.path.join(save_path,\"{}\".format(imageNo)),np.squeeze(recover_Y_test_pred)[UPPER_BOUND:LOWER_BOUND,:])\n",
    "            else:\n",
    "                print(\"please enter an valida merge method\")\n",
    "                        \n",
    "\n",
    "print(\"save\")\n",
    "t1 = time.time()\n",
    "saveResults(save_path, test_loader)\n",
    "t2 = time.time()\n",
    "print('save in {} sec'.format(t2-t1))"
   ]
  },
  {
   "cell_type": "code",
   "execution_count": 17,
   "metadata": {},
   "outputs": [],
   "source": [
    "a = np.load(os.path.join(save_path,\"0.npy\"))\n"
   ]
  },
  {
   "cell_type": "code",
   "execution_count": 18,
   "metadata": {
    "scrolled": true
   },
   "outputs": [],
   "source": [
    "heatmap_img = cv2.applyColorMap((a*255).astype(np.uint8), cmapy.cmap('jet_r'))\n",
    "plt.figure(figsize=(20,16))\n",
    "plt.imshow(heatmap_img)\n",
    "# plt.colorbar(shrink=0.5)\n",
    "plt.axis('off')\n",
    "plt.show()"
   ]
  },
  {
   "cell_type": "code",
   "execution_count": 19,
   "metadata": {},
   "outputs": [
    {
     "data": {
      "image/png": "[encoded data removed]",
      "text/plain": [
       "<Figure size 288x288 with 1 Axes>"
      ]
     },
     "metadata": {
      "needs_background": "light"
     },
     "output_type": "display_data"
    }
   ],
   "source": [
    "# heatmap_img = cv2.applyColorMap((a[:,2000:2500]*255).astype(np.uint8), cmapy.cmap('jet_r'))\n",
    "# plt.figure(figsize=(4,4))\n",
    "# plt.imshow(heatmap_img)\n",
    "# # plt.colorbar(shrink=0.5)\n",
    "# plt.axis('off')\n",
    "# plt.savefig(\"nomerge.png\",bbox_inches=\"tight\")\n",
    "# # plt.show()"
   ]
  },
  {
   "cell_type": "code",
   "execution_count": 16,
   "metadata": {},
   "outputs": [],
   "source": [
    "# # heatmap_img = cv2.applyColorMap((a[:,2000:2500]*255).astype(np.uint8), cmapy.cmap('jet_r'))\n",
    "# plt.figure(figsize=(10,10))\n",
    "# # plt.imshow(seis[100,800:1300,2000:2500])\n",
    "# plt.imshow(seis[100,800:1300,2000:2500],'seismic')\n",
    "# plt.imshow(faultmask, 'gray', alpha=0.7)\n",
    "# # plt.imshow(fault[100,800:1300,2000:2500])\n",
    "# # plt.colorbar(shrink=0.5)\n",
    "# plt.axis('off')\n",
    "# plt.savefig(\"seismicfault.jpg\",dpt=300, bbox_inches=\"tight\")\n",
    "# # plt.show()"
   ]
  }
 ],
 "metadata": {
  "kernelspec": {
   "display_name": "Python 3",
   "language": "python",
   "name": "python3"
  },
  "language_info": {
   "codemirror_mode": {
    "name": "ipython",
    "version": 3
   },
   "file_extension": ".py",
   "mimetype": "text/x-python",
   "name": "python",
   "nbconvert_exporter": "python",
   "pygments_lexer": "ipython3",
   "version": "3.6.6"
  }
 },
 "nbformat": 4,
 "nbformat_minor": 2
}
