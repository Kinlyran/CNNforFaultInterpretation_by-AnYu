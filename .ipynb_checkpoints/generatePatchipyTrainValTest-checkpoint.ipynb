{
 "cells": [
  {
   "cell_type": "code",
   "execution_count": 1,
   "metadata": {},
   "outputs": [
    {
     "name": "stdout",
     "output_type": "stream",
     "text": [
      "start reading......\n",
      "load in 21.11854648590088 sec\n",
      "(900, 1537, 3174) (900, 1537, 3174)\n",
      "1.0 0.0 True False\n",
      "276\n",
      "horizontal_splits_number 66\n",
      "width_after_pad 3216\n",
      "left_pad,right_pad 21 21\n",
      "vertical_splits_number 32\n",
      "height_after_pad 1584\n",
      "top_pad,bottom_pad 23 24\n",
      "181029\n",
      "181029\n",
      "(96, 96)\n",
      "read images in 196.01455879211426 sec\n"
     ]
    }
   ],
   "source": [
    "from functions import *\n",
    "\n",
    "# in order to get reproducable results\n",
    "torch.manual_seed(1)\n",
    "torch.backends.cudnn.deterministic = True\n",
    "torch.backends.cudnn.benchmark = False\n",
    "np.random.seed(1)\n",
    "random.seed(1)\n",
    "\n",
    "import cmapy\n",
    "time1 = time.time()\n",
    "\n",
    "print(\"start reading......\")\n",
    "data_folder = \"..<DATA FOLDER>..\"\n",
    "processed_data_folder = \"{}/processedThebe\".format(data_folder)\n",
    "ori_data_folder = \"{}/thebeorigin\".format(data_folder)\n",
    "\n",
    "\n",
    "# load training set\n",
    "seismic_path = '{}/seistrain.npy'.format(ori_data_folder)\n",
    "label_path = '{}/faulttrain.npy'.format(ori_data_folder)\n",
    "t_start = time.time()\n",
    "seismic = np.load(seismic_path)\n",
    "fault = np.load(label_path)\n",
    "print(\"load in {} sec\".format(time.time()-t_start))\n",
    "\n",
    "seismic = np.moveaxis(seismic,-2,-1) # make it IL, Z, XL order\n",
    "fault = np.moveaxis(fault,-2,-1)\n",
    "seismic = (seismic-seismic.min(axis=(1,2), keepdims=True))/(seismic.max(axis=(1,2), keepdims=True)-seismic.min(axis=(1,2), keepdims=True))\n",
    "\n",
    "print(seismic.shape, fault.shape)\n",
    "print(seismic.max(),seismic.min(), fault.max(), fault.min())\n",
    "\n",
    "\n",
    "IL, Z, XL = fault.shape\n",
    "\n",
    "im_height = Z\n",
    "im_width = XL\n",
    "splitsize = 96\n",
    "stepsize = 48\n",
    "overlapsize = splitsize-stepsize\n",
    "pixelThre = int(0.03*splitsize*splitsize)\n",
    "print(pixelThre)\n",
    "\n",
    "\n",
    "horizontal_splits_number = int(np.ceil((im_width-overlapsize)/stepsize))\n",
    "print(\"horizontal_splits_number\", horizontal_splits_number)\n",
    "width_after_pad = stepsize*horizontal_splits_number+overlapsize\n",
    "print(\"width_after_pad\", width_after_pad)\n",
    "left_pad = int((width_after_pad-im_width)/2)\n",
    "right_pad = width_after_pad-im_width-left_pad\n",
    "print(\"left_pad,right_pad\",left_pad,right_pad)\n",
    "\n",
    "vertical_splits_number = int(np.ceil((im_height-overlapsize)/stepsize))\n",
    "print(\"vertical_splits_number\",vertical_splits_number)\n",
    "height_after_pad = stepsize*vertical_splits_number+overlapsize\n",
    "print(\"height_after_pad\",height_after_pad)\n",
    "top_pad = int((height_after_pad-im_height)/2)\n",
    "bottom_pad = height_after_pad-im_height-top_pad\n",
    "print(\"top_pad,bottom_pad\", top_pad,bottom_pad)\n",
    "\n",
    "\n",
    "t_start = time.time()\n",
    "X = []\n",
    "Y = []\n",
    "for i in range(0,900,1):\n",
    "    mask = fault[i]\n",
    "    splits = split_Image(mask, True,top_pad,bottom_pad,left_pad,right_pad,splitsize,stepsize,vertical_splits_number,horizontal_splits_number)\n",
    "#     print(splits.shape)\n",
    "    t = (splits.sum((1,2)) < pixelThre)\n",
    "    no_label_element_index = list(compress(range(len(t)), t))\n",
    "    # get all the indexes of the no label pieces by adding elements in axis 2 and 3.\n",
    "    splits = np.delete(splits, no_label_element_index,0) # delete element i along axis 0\n",
    "#     print(\"splits.shape\", splits.shape)\n",
    "    Y.extend(splits)\n",
    "    \n",
    "    img = seismic[i]\n",
    "    splits = split_Image(img, True,top_pad,bottom_pad,left_pad,right_pad,splitsize,stepsize,vertical_splits_number,horizontal_splits_number)\n",
    "    splits = np.delete(splits, no_label_element_index,0) # delete element i along axis 0\n",
    "#     print(\"splits.shape\", splits.shape)\n",
    "    X.extend(splits)\n",
    "#     break\n",
    "\n",
    "print(len(Y))\n",
    "print(len(X))\n",
    "print(X[0].shape)\n",
    "print(\"read images in {} sec\".format(time.time()-t_start))"
   ]
  },
  {
   "cell_type": "code",
   "execution_count": 2,
   "metadata": {},
   "outputs": [
    {
     "name": "stdout",
     "output_type": "stream",
     "text": [
      "float64\n",
      "float32\n"
     ]
    }
   ],
   "source": [
    "print(X[0].dtype)\n",
    "X = np.asarray(X, dtype=np.float32)\n",
    "Y = np.asarray(Y, dtype=np.float32)\n",
    "print(X[0].dtype)"
   ]
  },
  {
   "cell_type": "markdown",
   "metadata": {},
   "source": [
    "Optional augmentation"
   ]
  },
  {
   "cell_type": "code",
   "execution_count": 3,
   "metadata": {},
   "outputs": [],
   "source": [
    "# aug_times = 9\n",
    "\n",
    "# t_start = time.time()\n",
    "# origin_train_size = len(X)\n",
    "# print(origin_train_size)\n",
    "# X_train_aug = np.zeros((origin_train_size*aug_times,splitsize,splitsize),np.float32)\n",
    "# Y_train_aug = np.zeros((origin_train_size*aug_times,splitsize,splitsize),np.float32)\n",
    "# for i in range(len(X)):\n",
    "#     for j in range(aug_times):\n",
    "#         aug = strong_aug(p=1)\n",
    "#         augmented = aug(image=X[i], mask=Y[i])\n",
    "#         X_train_aug[origin_train_size*j + i] = augmented['image']\n",
    "#         Y_train_aug[origin_train_size*j + i] = augmented['mask']\n",
    "# print(\"read images in {} sec\".format(time.time()-t_start))\n",
    "# print(X_train_aug.dtype)\n",
    "\n",
    "# if len(X)==origin_train_size:\n",
    "#     X = np.append(X,X_train_aug, axis=0)\n",
    "# if len(Y)==origin_train_size:\n",
    "#     Y = np.append(Y, Y_train_aug, axis=0)\n",
    "# print(\"X_train after aug\",X.shape, X.dtype) \n",
    "# print(\"Y_train after aug\",Y.shape, Y.dtype)\n",
    "# print(\"read images in {} sec\".format(time.time()-t_start))"
   ]
  },
  {
   "cell_type": "code",
   "execution_count": 5,
   "metadata": {},
   "outputs": [],
   "source": [
    "directory = \"{}/train/seismic\".format(processed_data_folder)\n",
    "if not os.path.exists(directory):\n",
    "    os.makedirs(directory)\n",
    "directory = \"{}/train/annotation\".format(processed_data_folder)\n",
    "if not os.path.exists(directory):\n",
    "    os.makedirs(directory)"
   ]
  },
  {
   "cell_type": "code",
   "execution_count": 6,
   "metadata": {},
   "outputs": [],
   "source": [
    "for i in range(len(X)):\n",
    "    np.save(\"{}/train/seismic/{}.npy\".format(processed_data_folder, i),X[i])\n",
    "    np.save(\"{}/train/annotation/{}.npy\".format(processed_data_folder, i),Y[i])"
   ]
  },
  {
   "cell_type": "code",
   "execution_count": 6,
   "metadata": {},
   "outputs": [
    {
     "name": "stdout",
     "output_type": "stream",
     "text": [
      "load in 4.706210374832153 sec\n",
      "(200, 1537, 3174) (200, 1537, 3174)\n",
      "1.0 0.0 True False\n"
     ]
    }
   ],
   "source": [
    "# load validation set\n",
    "seismic_path = '{}/seisval.npy'.format(ori_data_folder)\n",
    "label_path = '{}/faultval.npy'.format(ori_data_folder)\n",
    "t_start = time.time()\n",
    "seismic = np.load(seismic_path)\n",
    "fault = np.load(label_path)\n",
    "print(\"load in {} sec\".format(time.time()-t_start))\n",
    "\n",
    "seismic = np.moveaxis(seismic,-2,-1) # make it IL, Z, XL order\n",
    "fault = np.moveaxis(fault,-2,-1)\n",
    "seismic = (seismic-seismic.min(axis=(1,2), keepdims=True))/(seismic.max(axis=(1,2), keepdims=True)-seismic.min(axis=(1,2), keepdims=True))\n",
    "\n",
    "print(seismic.shape, fault.shape)\n",
    "print(seismic.max(),seismic.min(), fault.max(), fault.min())"
   ]
  },
  {
   "cell_type": "code",
   "execution_count": 7,
   "metadata": {},
   "outputs": [
    {
     "name": "stdout",
     "output_type": "stream",
     "text": [
      "64317\n",
      "64317\n",
      "(96, 96)\n",
      "read images in 36.502745389938354 sec\n"
     ]
    }
   ],
   "source": [
    "t_start = time.time()\n",
    "X = []\n",
    "Y = []\n",
    "for i in range(0,200,1):\n",
    "    mask = fault[i]\n",
    "    splits = split_Image(mask, True,top_pad,bottom_pad,left_pad,right_pad,splitsize,stepsize,vertical_splits_number,horizontal_splits_number)\n",
    "#     print(splits.shape)\n",
    "    t = (splits.sum((1,2)) < pixelThre)\n",
    "    no_label_element_index = list(compress(range(len(t)), t))\n",
    "    # get all the indexes of the no label pieces by adding elements in axis 2 and 3.\n",
    "    splits = np.delete(splits, no_label_element_index,0) # delete element i along axis 0\n",
    "#     print(\"splits.shape\", splits.shape)\n",
    "    Y.extend(splits)\n",
    "    \n",
    "    img = seismic[i]\n",
    "    splits = split_Image(img, True,top_pad,bottom_pad,left_pad,right_pad,splitsize,stepsize,vertical_splits_number,horizontal_splits_number)\n",
    "    splits = np.delete(splits, no_label_element_index,0) # delete element i along axis 0\n",
    "    X.extend(splits)\n",
    "\n",
    "print(len(Y))\n",
    "print(len(X))\n",
    "print(X[0].shape)\n",
    "print(\"read images in {} sec\".format(time.time()-t_start))"
   ]
  },
  {
   "cell_type": "code",
   "execution_count": 8,
   "metadata": {},
   "outputs": [],
   "source": [
    "X = np.asarray(X, dtype=np.float32)\n",
    "Y = np.asarray(Y, dtype=np.float32)"
   ]
  },
  {
   "cell_type": "code",
   "execution_count": 9,
   "metadata": {},
   "outputs": [],
   "source": [
    "directory = \"{}/val/seismic\".format(processed_data_folder)\n",
    "if not os.path.exists(directory):\n",
    "    os.makedirs(directory)\n",
    "directory = \"{}/val/annotation\".format(processed_data_folder)\n",
    "if not os.path.exists(directory):\n",
    "    os.makedirs(directory)\n",
    "for i in range(len(X)):\n",
    "    np.save(\"{}/val/seismic/{}.npy\".format(processed_data_folder, i),X[i])\n",
    "    np.save(\"{}/val/annotation/{}.npy\".format(processed_data_folder, i),Y[i])"
   ]
  },
  {
   "cell_type": "markdown",
   "metadata": {},
   "source": [
    "illustrate train or val examples"
   ]
  },
  {
   "cell_type": "code",
   "execution_count": 11,
   "metadata": {},
   "outputs": [
    {
     "data": {
      "text/plain": [
       "(-0.5, 95.5, 95.5, -0.5)"
      ]
     },
     "execution_count": 11,
     "metadata": {},
     "output_type": "execute_result"
    },
    {
     "data": {
      "image/png": "[encoded data removed]",
      "text/plain": [
       "<Figure size 288x288 with 1 Axes>"
      ]
     },
     "metadata": {
      "needs_background": "light"
     },
     "output_type": "display_data"
    }
   ],
   "source": [
    "i = 345\n",
    "seis = np.load(\"{}/val/seismic/{}.npy\".format(processed_data_folder, i))\n",
    "mask = np.load(\"{}/val/annotation/{}.npy\".format(processed_data_folder, i))\n",
    "plt.figure(figsize=(4,4))\n",
    "plt.imshow(seis,'seismic')\n",
    "plt.imshow(mask, 'gray', alpha=0.7)\n",
    "plt.axis('off')"
   ]
  },
  {
   "cell_type": "code",
   "execution_count": 12,
   "metadata": {},
   "outputs": [
    {
     "data": {
      "text/plain": [
       "(-0.5, 95.5, 95.5, -0.5)"
      ]
     },
     "execution_count": 12,
     "metadata": {},
     "output_type": "execute_result"
    },
    {
     "data": {
      "image/png": "[encoded data removed]",
      "text/plain": [
       "<Figure size 288x288 with 1 Axes>"
      ]
     },
     "metadata": {
      "needs_background": "light"
     },
     "output_type": "display_data"
    }
   ],
   "source": [
    "i = 233\n",
    "seis = np.load(\"{}/train/seismic/{}.npy\".format(processed_data_folder, i))\n",
    "mask = np.load(\"{}/train/annotation/{}.npy\".format(processed_data_folder, i))\n",
    "plt.figure(figsize=(4,4))\n",
    "plt.imshow(seis,'seismic')\n",
    "plt.imshow(mask, 'gray', alpha=0.7)\n",
    "plt.axis('off')"
   ]
  },
  {
   "cell_type": "code",
   "execution_count": 13,
   "metadata": {},
   "outputs": [
    {
     "name": "stdout",
     "output_type": "stream",
     "text": [
      "load in 17.432120323181152 sec\n",
      "(703, 1537, 3174) (703, 1537, 3174)\n",
      "1.0 0.0 True False\n"
     ]
    }
   ],
   "source": [
    "# load test set\n",
    "seismic_path = '{}/seistest.npy'.format(ori_data_folder)\n",
    "label_path = '{}/faulttest.npy'.format(ori_data_folder)\n",
    "t_start = time.time()\n",
    "seismic = np.load(seismic_path)\n",
    "fault = np.load(label_path)\n",
    "print(\"load in {} sec\".format(time.time()-t_start))\n",
    "\n",
    "seismic = np.moveaxis(seismic,-2,-1) # make it IL, Z, XL order\n",
    "fault = np.moveaxis(fault,-2,-1)\n",
    "seismic = (seismic-seismic.min(axis=(1,2), keepdims=True))/(seismic.max(axis=(1,2), keepdims=True)-seismic.min(axis=(1,2), keepdims=True))\n",
    "\n",
    "print(seismic.shape, fault.shape)\n",
    "print(seismic.max(),seismic.min(), fault.max(), fault.min())"
   ]
  },
  {
   "cell_type": "code",
   "execution_count": 14,
   "metadata": {},
   "outputs": [],
   "source": [
    "directory = \"{}/test/seismic\".format(processed_data_folder)\n",
    "if not os.path.exists(directory):\n",
    "    os.makedirs(directory)\n",
    "directory = \"{}/test/annotation\".format(processed_data_folder)\n",
    "if not os.path.exists(directory):\n",
    "    os.makedirs(directory)\n",
    "count = 0\n",
    "for i in range(0,len(seismic),5):\n",
    "    np.save(\"{}/test/seismic/{}.npy\".format(processed_data_folder, count),seismic[i])\n",
    "    np.save(\"{}/test/annotation/{}.npy\".format(processed_data_folder, count),fault[i])\n",
    "    count = count + 1"
   ]
  },
  {
   "cell_type": "code",
   "execution_count": null,
   "metadata": {},
   "outputs": [],
   "source": []
  }
 ],
 "metadata": {
  "kernelspec": {
   "display_name": "Python 3",
   "language": "python",
   "name": "python3"
  },
  "language_info": {
   "codemirror_mode": {
    "name": "ipython",
    "version": 3
   },
   "file_extension": ".py",
   "mimetype": "text/x-python",
   "name": "python",
   "nbconvert_exporter": "python",
   "pygments_lexer": "ipython3",
   "version": "3.6.6"
  }
 },
 "nbformat": 4,
 "nbformat_minor": 2
}
