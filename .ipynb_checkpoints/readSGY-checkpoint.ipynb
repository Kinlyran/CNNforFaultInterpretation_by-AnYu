{
 "cells": [
  {
   "cell_type": "code",
   "execution_count": 2,
   "metadata": {},
   "outputs": [],
   "source": [
    "# import segyio\n",
    "from __future__ import print_function\n",
    "import os\n",
    "import sys\n",
    "import time\n",
    "from obspy.io.segy.segy import _read_segy, SEGYBinaryFileHeader\n",
    "from obspy import read\n",
    "import numpy as np\n",
    "\n",
    "# os.environ[\"CUDA_VISIBLE_DEVICES\"] = \"1\"  # Only GPU 1 is visible to this code"
   ]
  },
  {
   "cell_type": "code",
   "execution_count": 3,
   "metadata": {},
   "outputs": [],
   "source": [
    "filename = '/data/anyu/Thebe/OilData/TrainingData/P00675589/FILE_000001.sgy'"
   ]
  },
  {
   "cell_type": "markdown",
   "metadata": {},
   "source": [
    "# Read use _read_segy()"
   ]
  },
  {
   "cell_type": "code",
   "execution_count": 8,
   "metadata": {},
   "outputs": [
    {
     "name": "stdout",
     "output_type": "stream",
     "text": [
      "--> data read in 333.5 sec\n"
     ]
    }
   ],
   "source": [
    "t0=time.time()\n",
    "segy = _read_segy(filename)\n",
    "print('--> data read in {:.1f} sec'.format(time.time()-t0))"
   ]
  },
  {
   "cell_type": "code",
   "execution_count": 9,
   "metadata": {},
   "outputs": [
    {
     "name": "stdout",
     "output_type": "stream",
     "text": [
      "\n",
      "binary_file_header:\n",
      " Binary File Header:\n",
      "\tjob_identification_number: 0\n",
      "\tline_number: 1001\n",
      "\treel_number: 838\n",
      "\tnumber_of_data_traces_per_ensemble: 69\n",
      "\tnumber_of_auxiliary_traces_per_ensemble: 0\n",
      "\tsample_interval_in_microseconds: 3000\n",
      "\tsample_interval_in_microseconds_of_original_field_recording: 0\n",
      "\tnumber_of_samples_per_data_trace: 1537\n",
      "\tnumber_of_samples_per_data_trace_for_original_field_recording: 0\n",
      "\tdata_sample_format_code: 1\n",
      "\tensemble_fold: 1\n",
      "\ttrace_sorting_code: 4\n",
      "\tvertical_sum_code: 69\n",
      "\tsweep_frequency_at_start: 0\n",
      "\tsweep_frequency_at_end: 0\n",
      "\tsweep_length: 0\n",
      "\tsweep_type_code: 0\n",
      "\ttrace_number_of_sweep_channel: 0\n",
      "\tsweep_trace_taper_length_in_ms_at_start: 0\n",
      "\tsweep_trace_taper_length_in_ms_at_end: 0\n",
      "\ttaper_type: 0\n",
      "\tcorrelated_data_traces: 0\n",
      "\tbinary_gain_recovered: 0\n",
      "\tamplitude_recovery_method: 0\n",
      "\tmeasurement_system: 1\n",
      "\timpulse_signal_polarity: 0\n",
      "\tvibratory_polarity_code: 0\n",
      "\tunassigned_1: b'\\x00\\x00\\x00\\x00\\x00\\x00\\x00\\x00\\x00\\x00\\x00\\x00\\x00\\x00\\x00\\x00\\x00\\x00\\x00\\x00\\x00\\x00\\x00\\x00\\x00\\x00\\x00\\x00\\x00\\x00\\x00\\x00\\x00\\x00\\x00\\x00\\x00\\x00\\x00\\x00\\x00\\x00\\x00\\x00\\x00\\x00\\x00\\x00\\x00\\x00\\x00\\x00\\x00\\x00\\x00\\x00\\x00\\x00\\x00\\x00\\x00\\x00\\x00\\x00\\x00\\x00\\x00\\x00\\x00\\x00\\x00\\x00\\x00\\x00\\x00\\x00\\x00\\x00\\x00\\x00\\x00\\x00\\x00\\x00\\x00\\x00\\x00\\x00\\x00\\x00\\x00\\x00\\x00\\x00\\x00\\x00\\x00\\x00\\x00\\x00\\x00\\x00\\x00\\x00\\x00\\x00\\x00\\x00\\x00\\x00\\x00\\x00\\x00\\x00\\x00\\x00\\x00\\x00\\x00\\x00\\x00\\x00\\x00\\x00\\x00\\x00\\x00\\x00\\x00\\x00\\x00\\x00\\x00\\x00\\x00\\x00\\x00\\x00\\x00\\x00\\x00\\x00\\x00\\x00\\x00\\x00\\x00\\x00\\x00\\x00\\x00\\x00\\x00\\x00\\x00\\x00\\x00\\x00\\x00\\x00\\x00\\x00\\x00\\x00\\x00\\x00\\x00\\x00\\x00\\x00\\x00\\x00\\x00\\x00\\x00\\x00\\x00\\x00\\x00\\x00\\x00\\x00\\x00\\x00\\x00\\x00\\x00\\x00\\x00\\x00\\x00\\x00\\x00\\x00\\x00\\x00\\x00\\x00\\x00\\x00\\x00\\x00\\x00\\x00\\x00\\x00\\x00\\x00\\x00\\x00\\x00\\x00\\x00\\x00\\x00\\x00\\x00\\x00\\x00\\x00\\x00\\x00\\x00\\x00\\x00\\x00\\x00\\x00\\x00\\x00\\x00\\x00\\x00\\x00\\x00\\x00\\x00\\x00\\x00\\x00'\n",
      "\tseg_y_format_revision_number: 0\n",
      "\tfixed_length_trace_flag: 0\n",
      "\tnumber_of_3200_byte_ext_file_header_records_following: 0\n",
      "\tunassigned_2: b'\\x00\\x00\\x00\\x00\\x00\\x00\\x00\\x00\\x00\\x00\\x00\\x00\\x00\\x00\\x00\\x00\\x00\\x00\\x00\\x00\\x00\\x00\\x00\\x00\\x00\\x00\\x00\\x00\\x00\\x00\\x00\\x00\\x00\\x00\\x00\\x00\\x00\\x00\\x00\\x00\\x00\\x00\\x00\\x00\\x00\\x00\\x00\\x00\\x00\\x00\\x00\\x00\\x00\\x00\\x00\\x00\\x00\\x00\\x00\\x00\\x00\\x00\\x00\\x00\\x00\\x00\\x00\\x00\\x00\\x00\\x00\\x00\\x00\\x00\\x00\\x00\\x00\\x00\\x00\\x00\\x00\\x00\\x00\\x00\\x00\\x00\\x00\\x00\\x00\\x00\\x00\\x00\\x00\\x00'\n",
      "\n",
      "textual_file_header:\n",
      " b'C01 CLIENT BHPB PETROLEUM SURVEY  HEX07B THEBE3D 2007                           C02 INLINE RANGE IL0900 TO IL2060 TAPE ID KF0838                                C03 ------------------M/V GECO DIAMOND-------------------------------------     C04 ACQUISITION 4.6s/2ms                                                        C05 SHOT/RCVR INTERVAL(m)   25.0/12.5    NO. SOURCE ARRAYS/CABLES     2 / 8     C06 CABLE LENGTH(m)         3600         RECEIVERS PER CABLE            288     C07 GUN SEPARATION(m)       50.0         CABLE SEPARATION(m)            100     C08 STREAMER DEPTH(m)       6.5          SOURCE DEPTH(m)                5.0     C09 SOURCE TYPE  BOLT AIRGUN ARRAY VOLUME  3147CUIN PRESSURE 2000PSI            C10 FAR PORT GUN STRING NO  2            FAR STARBOARD GUN STRING NO      1     C11 FAR PORT CABLE NO       8            FAR STARBOARD CABLE NO           1     C12 MIN INLINE OFFSET    190M            MAX INLINE OFFSET            3790M     C13 PROJECTION TYPE   UTM ZONE 49 S      CENTRAL MERIDIAN     111 00 00.00E     C14 COORDINATE UNITS    METERS           GEODETIC DATUM              WGS-84     C15 BINNING ORIGIN (E,N)                               725436.77/7803810.09     C16 BINNING ORIGIN (XLINE,INLINE)                                       1/1     C17 XL/IL INC. 12.5m/25.0m  GRID XL/IL NUMBERING INC 1/1                        C18 PROCESSING GRID CORNERS:                                                    C19     X1=735723.4724  Y1=7820669.6942--> LINE=791 XLINE=1                     C20     X2=687705.6123 Y2=7849967.2643--> LINE=791 XLINE=4501                   C21     X3=764500.1968 Y3=7867833.9034 --> LINE=3001 XLINE=4501                 C22     X4=716482.3367 Y4=7897131.4735--> LINE=3001 XLINE=1                     C23  SELECTED XLINES QC                                                         C24 ----------------------OBP PROCESSING SEQUENCE -------------------------     C25 CONVERT DATA FROM SEGD 8058 TO OMEGA FORMAT                                 C26 UPDATE TRACE HEADERS WITH P1/90 NAVIGATION GEOMETRY                         C27 LC 3Hz/18DB/RESAMPLE TO 1ms/DESIGNATURE / RESAMPLE TO 3MS                   C28 SPHERICAL DIVERGENCE V^2T WITH BHPBP VELOCITY FIELD V0                      C29 TIDAL STATICS/TRACE EDIT/KILLED TRACES INTERPOLATE                          C30 SWATT IN OFFSET PLANE / SRME / RADON                                        C31 OFFSET SPLIT / FLEX/MIG VA02/FIRE3D/TRIMSTAT. IN OFFSET/INV Q=180           C32 XL AMP CONDITIONING/INV SPH. DIV. /KPSTM 60DEG A=2km VA02/3D CMP SORT       C35 TRACEWEIGHT=1+0.0004X;GUNCABLE CORR= 7.516ms                                C34 SMOOTH ALPHA-TRIM 40% 5x5 (250x250m)/NMO HDVA/EXPGAIN 6db/s                 C35                                                                             C40 END OF EBCDIC                                                               C39     AVO_ANGLE_NUM  171-172; AVO_CENTRAL_ANGLE*100 173-174                   C38              INLINE 9-12, XLINE 21-24; CMPX*10 53-56, CMPY*10 57-60         C39                                                                             C40 END EBCDIC                                                                  '\n",
      "\n",
      "data_encoding:\n",
      " 1\n",
      "\n",
      "endian:\n",
      " >\n",
      "\n",
      "file:\n",
      " <_io.BufferedReader name='/data/anyu/Thebe/OilData/TrainingData/P00675589/FILE_000001.sgy'>\n",
      "\n",
      "classinfo:\n",
      " <class 'obspy.io.segy.segy.SEGYFile'>\n",
      "\n",
      "doc:\n",
      " \n",
      "    Class that internally handles SEG Y files.\n",
      "    \n",
      "\n",
      "ntraces:\n",
      " 4398078\n",
      "\n",
      "size:\n",
      "\t 25786.765617370605 MB\n",
      "\t 25.182388298213482 GB\n"
     ]
    }
   ],
   "source": [
    "binary_file_header = segy.binary_file_header\n",
    "print(\"\\nbinary_file_header:\\n\", binary_file_header)\n",
    "\n",
    "textual_file_header = segy.textual_file_header\n",
    "print(\"\\ntextual_file_header:\\n\", textual_file_header)\n",
    "\n",
    "data_encoding=segy.data_encoding\n",
    "print(\"\\ndata_encoding:\\n\",data_encoding)\n",
    "endian=segy.endian\n",
    "print(\"\\nendian:\\n\", endian)\n",
    "file=segy.file\n",
    "print(\"\\nfile:\\n\", file)\n",
    "classinfo = segy.__class__\n",
    "print(\"\\nclassinfo:\\n\", classinfo)\n",
    "doc = segy.__doc__\n",
    "print(\"\\ndoc:\\n\", doc)\n",
    "ntraces=len(segy.traces)\n",
    "print(\"\\nntraces:\\n\", ntraces)\n",
    "size_M=segy.traces[0].data.nbytes/1024/1024.*ntraces\n",
    "print(\"\\nsize:\\n\\t\", size_M,\"MB\")\n",
    "print(\"\\t\", size_M/1024, \"GB\")"
   ]
  },
  {
   "cell_type": "markdown",
   "metadata": {},
   "source": [
    "# Read use read()"
   ]
  },
  {
   "cell_type": "code",
   "execution_count": 4,
   "metadata": {},
   "outputs": [
    {
     "name": "stdout",
     "output_type": "stream",
     "text": [
      "sgy use read:\n"
     ]
    },
    {
     "name": "stderr",
     "output_type": "stream",
     "text": [
      "/home/anyu/anaconda3/lib/python3.6/site-packages/obspy/io/segy/segy.py:778: UserWarning: Trace starttime does not store a proper date (day of year is zero). Using January 1st 00:00 as trace start time.\n",
      "  warnings.warn(msg)\n"
     ]
    },
    {
     "name": "stdout",
     "output_type": "stream",
     "text": [
      "--> data read in 15.6 min\n"
     ]
    }
   ],
   "source": [
    "t0=time.time()\n",
    "print('sgy use read:')\n",
    "stream = read(filename)\n",
    "print('--> data read in {:.1f} min'.format((time.time()-t0)/60))"
   ]
  },
  {
   "cell_type": "code",
   "execution_count": 5,
   "metadata": {},
   "outputs": [
    {
     "name": "stdout",
     "output_type": "stream",
     "text": [
      "4398078 Trace(s) in Stream:\n",
      "\n",
      "Seq. No. in line:    1 | 2007-01-01T00:00:00.000000Z - 2007-01-01T00:00:04.608000Z | 333.3 Hz, 1537 samples\n",
      "...\n",
      "(4398076 other traces)\n",
      "...\n",
      "Seq. No. in line: 2130793 | 2007-01-01T00:00:00.000000Z - 2007-01-01T00:00:04.608000Z | 333.3 Hz, 1537 samples\n",
      "\n",
      "[Use \"print(Stream.__str__(extended=True))\" to print all Traces]\n"
     ]
    }
   ],
   "source": [
    "print(stream)"
   ]
  },
  {
   "cell_type": "code",
   "execution_count": null,
   "metadata": {},
   "outputs": [],
   "source": [
    "il=[]\n",
    "xl=[]\n",
    "for i in range(len(stream)):\n",
    "    trace_i_header = stream[i].stats.segy.trace_header\n",
    "    il.append(trace_i_header.original_field_record_number)\n",
    "    xl.append(trace_i_header.ensemble_number)\n",
    "# print(il)\n",
    "# print(xl)\n",
    "    "
   ]
  },
  {
   "cell_type": "code",
   "execution_count": null,
   "metadata": {},
   "outputs": [],
   "source": [
    "print(il)"
   ]
  },
  {
   "cell_type": "code",
   "execution_count": null,
   "metadata": {},
   "outputs": [],
   "source": [
    "print(xl)"
   ]
  },
  {
   "cell_type": "code",
   "execution_count": null,
   "metadata": {},
   "outputs": [],
   "source": [
    "ilines = np.unique(il)\n",
    "print(ilines)\n",
    "print(len(ilines))"
   ]
  },
  {
   "cell_type": "code",
   "execution_count": null,
   "metadata": {},
   "outputs": [],
   "source": [
    "xlines = np.unique(xl)\n",
    "print(xlines)\n",
    "print(len(xlines))"
   ]
  },
  {
   "cell_type": "markdown",
   "metadata": {},
   "source": [
    "Check if the data is a cube shape"
   ]
  },
  {
   "cell_type": "code",
   "execution_count": null,
   "metadata": {},
   "outputs": [],
   "source": [
    "from collections import Counter\n",
    "t0=time.time()\n",
    "counter = Counter(il)\n",
    "print('Count in {:.1f} sec'.format(time.time()-t0))\n",
    "print (sorted(counter.items()))"
   ]
  },
  {
   "cell_type": "code",
   "execution_count": null,
   "metadata": {},
   "outputs": [],
   "source": [
    "from collections import Counter\n",
    "t0=time.time()\n",
    "counter = Counter(xl)\n",
    "print('Count in {:.1f} sec'.format(time.time()-t0))\n",
    "print (sorted(counter.items()))"
   ]
  },
  {
   "cell_type": "code",
   "execution_count": null,
   "metadata": {},
   "outputs": [],
   "source": [
    "print(counter)"
   ]
  },
  {
   "cell_type": "markdown",
   "metadata": {},
   "source": [
    "Thebe data set is not a cube shape, here we fill in 0s to make it a cube"
   ]
  },
  {
   "cell_type": "code",
   "execution_count": null,
   "metadata": {},
   "outputs": [],
   "source": [
    "seis_big = np.zeros((len(ilines),len(xlines),1537))  # declare an empty array\n",
    "# How many distinct IL numbers, XL numbers, how many samples per trace. \n",
    "#Be careful about the steps, some sgy file IL/XL increase 2 "
   ]
  },
  {
   "cell_type": "code",
   "execution_count": null,
   "metadata": {},
   "outputs": [],
   "source": [
    "t0=time.time()\n",
    "print(len(segy_big.traces))\n",
    "print(len(stream))\n",
    "for i in range(len(segy_big.traces)): # fill in the empty 3D array based on trace il number and crossline number.\n",
    "    tracei = stream[i] \n",
    "    il=tracei.stats.segy.trace_header.original_field_record_number\n",
    "    xl=tracei.stats.segy.trace_header.ensemble_number\n",
    "    seis_big[il-1001][xl-851] = tracei.data # here 1001 is the initial inline number of the thebe dataset, will 851 is the initial crossline number\n",
    "print('--> data read in {:.1f} min'.format((time.time()-t0)/60))"
   ]
  },
  {
   "cell_type": "markdown",
   "metadata": {},
   "source": [
    "Now, you have the converted data, you can save the entire sgy data or save a subset of it."
   ]
  },
  {
   "cell_type": "code",
   "execution_count": null,
   "metadata": {},
   "outputs": [],
   "source": [
    "# save entire\n",
    "# t0=time.time()\n",
    "# print('sgy save as npy:')\n",
    "# np.save(\"seis\",seis_big) \n",
    "# print('--> data save in {:.1f} min'.format((time.time()-t0)/60))"
   ]
  },
  {
   "cell_type": "code",
   "execution_count": null,
   "metadata": {},
   "outputs": [],
   "source": [
    "# save a subset\n",
    "# seis_sub = seis_big[IL_begin:IL_end,XL_begin:XL_end,timeslice_begin:time_end]\n",
    "# np.save(\"seis_sub\",seis_sub) "
   ]
  },
  {
   "cell_type": "code",
   "execution_count": null,
   "metadata": {},
   "outputs": [],
   "source": []
  }
 ],
 "metadata": {
  "kernelspec": {
   "display_name": "Python 3",
   "language": "python",
   "name": "python3"
  }
 },
 "nbformat": 4,
 "nbformat_minor": 2
}
