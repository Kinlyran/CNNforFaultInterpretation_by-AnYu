{
 "cells": [
  {
   "cell_type": "code",
   "execution_count": 1,
   "metadata": {},
   "outputs": [
    {
     "name": "stderr",
     "output_type": "stream",
     "text": [
      "/home/anyu/anaconda3/envs/faultSeg36/lib/python3.6/site-packages/tensorflow/python/framework/dtypes.py:523: FutureWarning: Passing (type, 1) or '1type' as a synonym of type is deprecated; in a future version of numpy, it will be understood as (type, (1,)) / '(1,)type'.\n",
      "  _np_qint8 = np.dtype([(\"qint8\", np.int8, 1)])\n",
      "/home/anyu/anaconda3/envs/faultSeg36/lib/python3.6/site-packages/tensorflow/python/framework/dtypes.py:524: FutureWarning: Passing (type, 1) or '1type' as a synonym of type is deprecated; in a future version of numpy, it will be understood as (type, (1,)) / '(1,)type'.\n",
      "  _np_quint8 = np.dtype([(\"quint8\", np.uint8, 1)])\n",
      "/home/anyu/anaconda3/envs/faultSeg36/lib/python3.6/site-packages/tensorflow/python/framework/dtypes.py:525: FutureWarning: Passing (type, 1) or '1type' as a synonym of type is deprecated; in a future version of numpy, it will be understood as (type, (1,)) / '(1,)type'.\n",
      "  _np_qint16 = np.dtype([(\"qint16\", np.int16, 1)])\n",
      "/home/anyu/anaconda3/envs/faultSeg36/lib/python3.6/site-packages/tensorflow/python/framework/dtypes.py:526: FutureWarning: Passing (type, 1) or '1type' as a synonym of type is deprecated; in a future version of numpy, it will be understood as (type, (1,)) / '(1,)type'.\n",
      "  _np_quint16 = np.dtype([(\"quint16\", np.uint16, 1)])\n",
      "/home/anyu/anaconda3/envs/faultSeg36/lib/python3.6/site-packages/tensorflow/python/framework/dtypes.py:527: FutureWarning: Passing (type, 1) or '1type' as a synonym of type is deprecated; in a future version of numpy, it will be understood as (type, (1,)) / '(1,)type'.\n",
      "  _np_qint32 = np.dtype([(\"qint32\", np.int32, 1)])\n",
      "/home/anyu/anaconda3/envs/faultSeg36/lib/python3.6/site-packages/tensorflow/python/framework/dtypes.py:532: FutureWarning: Passing (type, 1) or '1type' as a synonym of type is deprecated; in a future version of numpy, it will be understood as (type, (1,)) / '(1,)type'.\n",
      "  np_resource = np.dtype([(\"resource\", np.ubyte, 1)])\n"
     ]
    },
    {
     "name": "stdout",
     "output_type": "stream",
     "text": [
      "Loaded model from disk\n"
     ]
    }
   ],
   "source": [
    "# from tensorflow.keras import backend\n",
    "from tensorflow.keras.models import load_model\n",
    "from unet3 import *\n",
    "import os\n",
    "os.environ[\"CUDA_VISIBLE_DEVICES\"] = \"3\"  # Only GPU 3 is visible to this code\n",
    "\n",
    "# load json and create model \n",
    "json_file = open('model/model3.json', 'r')\n",
    "loaded_model_json = json_file.read()\n",
    "json_file.close()\n",
    "loaded_model = model_from_json(loaded_model_json)\n",
    "# load weights into new model\n",
    "# loaded_model.load_weights(\"model/pretrained_model.hdf5\")\n",
    "# loaded_model.load_weights(\"model/pretrained_model.hdf5\")\n",
    "\n",
    "print(\"Loaded model from disk\")\n",
    "\n",
    "# training image dimensions\n",
    "n1, n2, n3 = 128, 128, 128"
   ]
  },
  {
   "cell_type": "code",
   "execution_count": 40,
   "metadata": {},
   "outputs": [
    {
     "name": "stdout",
     "output_type": "stream",
     "text": [
      "(200, 3174, 1537) (200, 3174, 1537)\n",
      "(200, 3174, 1537) float32\n",
      "(200, 3174, 1537) float32\n",
      "200 3174 1537\n"
     ]
    }
   ],
   "source": [
    "data_folder = \"..<DATA FOLDER>..\"\n",
    "# load validation set for prepare 3d cube, can change to training set to prepare corresponding 3D cube training set\n",
    "seis = np.load(\"{}/thebeorigin/seisval.npy\").format(data_folder)\n",
    "fault = np.load(\"{}/thebeorigin/faultval.npy\").format(data_folder)\n",
    "print(seis.shape, fault.shape)\n",
    "\n",
    "gx = seis.astype(np.single)\n",
    "gy = fault.astype(np.single)\n",
    "print(gx.shape, gx.dtype)\n",
    "print(gy.shape, gy.dtype)\n",
    "\n",
    "m1,m2,m3 = 200,3174,1537\n",
    "print(m1,m2,m3 )"
   ]
  },
  {
   "cell_type": "code",
   "execution_count": 41,
   "metadata": {},
   "outputs": [
    {
     "name": "stdout",
     "output_type": "stream",
     "text": [
      "5.0 51.0 26.0\n",
      "5 51 26\n",
      "384 3328 1728\n"
     ]
    }
   ],
   "source": [
    "import matplotlib.pyplot as plt\n",
    "%matplotlib inline\n",
    "\n",
    "#a 3d array of gx[m1][m2][m3], please make sure the dimensions are correct!!!\n",
    "#we strongly suggest to gain the seismic image before input it to the faultSeg!!!\n",
    "# gx,m1,m2,m3 = np.fromfile(\"/data/anyu/faultSegData/prediction/f3d/gxl.dat\",dtype=np.single),512,384,128\n",
    "os = 64 #overlap width\n",
    "c1 = np.round((m1+os)/(n1-os)+0.5)\n",
    "c2 = np.round((m2+os)/(n2-os)+0.5)\n",
    "c3 = np.round((m3+os)/(n3-os)+0.5)\n",
    "print(c1,c2,c3)\n",
    "c1 = int(c1)\n",
    "c2 = int(c2)\n",
    "c3 = int(c3)\n",
    "p1 = (n1-os)*c1+os\n",
    "p2 = (n2-os)*c2+os\n",
    "p3 = (n3-os)*c3+os\n",
    "print(c1,c2,c3)\n",
    "print(p1,p2,p3)"
   ]
  },
  {
   "cell_type": "code",
   "execution_count": 42,
   "metadata": {},
   "outputs": [
    {
     "name": "stdout",
     "output_type": "stream",
     "text": [
      "62914\n"
     ]
    }
   ],
   "source": [
    "pixelThre = int(0.03*128*128*128)\n",
    "print(pixelThre)"
   ]
  },
  {
   "cell_type": "code",
   "execution_count": 43,
   "metadata": {},
   "outputs": [
    {
     "name": "stdout",
     "output_type": "stream",
     "text": [
      "631\n"
     ]
    }
   ],
   "source": [
    "count = 0\n",
    "gx = np.reshape(gx,(m1,m2,m3))\n",
    "gy = np.reshape(gy,(m1,m2,m3))\n",
    "\n",
    "gp = np.zeros((p1,p2,p3),dtype=np.single)\n",
    "gp1 = np.zeros((p1,p2,p3),dtype=np.single)\n",
    "\n",
    "gs = np.zeros((1,n1,n2,n3,1),dtype=np.single)\n",
    "gs1 = np.zeros((1,n1,n2,n3,1),dtype=np.single)\n",
    "\n",
    "gp[0:m1,0:m2,0:m3]=gx\n",
    "gp1[0:m1,0:m2,0:m3]=gy\n",
    "\n",
    "for k1 in range(c1):\n",
    "    for k2 in range(c2):\n",
    "        for k3 in range(c3):\n",
    "            b1 = k1*n1-k1*os\n",
    "            e1 = b1+n1\n",
    "            b2 = k2*n2-k2*os\n",
    "            e2 = b2+n2\n",
    "            b3 = k3*n3-k3*os\n",
    "            e3 = b3+n3\n",
    "            gs[0,:,:,:,0]=gp[b1:e1,b2:e2,b3:e3]\n",
    "            gs1[0,:,:,:,0]=gp1[b1:e1,b2:e2,b3:e3]\n",
    "            if gs1.sum() > pixelThre:\n",
    "                gs.flatten().tofile(\"{}/faultSegData/thebe3dcube/validation/seis/\"+\"{}.dat\".format(data_folder,count),format=\"%4\")\n",
    "                gs1.flatten().tofile(\"{}/faultSegData/thebe3dcube/validation/fault/\"+\"{}.dat\".format(data_folder,count),format=\"%4\")\n",
    "                count = count+1\n",
    "print(count)"
   ]
  },
  {
   "cell_type": "code",
   "execution_count": 30,
   "metadata": {},
   "outputs": [
    {
     "name": "stdout",
     "output_type": "stream",
     "text": [
      "(2097152,) 0.0\n"
     ]
    }
   ],
   "source": [
    "print(gs.flatten().shape,gs.sum())"
   ]
  },
  {
   "cell_type": "code",
   "execution_count": 31,
   "metadata": {},
   "outputs": [],
   "source": [
    "# gs.tofile(\"test\"+\"gs.dat\",format=\"%4\")"
   ]
  },
  {
   "cell_type": "code",
   "execution_count": 6,
   "metadata": {},
   "outputs": [
    {
     "name": "stdout",
     "output_type": "stream",
     "text": [
      "(2097152,) float32 -7.59338 7.2299137\n"
     ]
    }
   ],
   "source": [
    "# check if it is successfully stored.\n",
    "gx = np.fromfile(\"{}/faultSegData/train/seis/8.dat\".format(data_folder),dtype=np.single)\n",
    "print(gx.shape,gx.dtype,gx.min(),gx.max())"
   ]
  },
  {
   "cell_type": "code",
   "execution_count": null,
   "metadata": {},
   "outputs": [],
   "source": []
  }
 ],
 "metadata": {
  "kernelspec": {
   "display_name": "faultSeg36",
   "language": "python",
   "name": "faultseg36"
  },
  "language_info": {
   "codemirror_mode": {
    "name": "ipython",
    "version": 3
   },
   "file_extension": ".py",
   "mimetype": "text/x-python",
   "name": "python",
   "nbconvert_exporter": "python",
   "pygments_lexer": "ipython3",
   "version": "3.6.11"
  }
 },
 "nbformat": 4,
 "nbformat_minor": 2
}
